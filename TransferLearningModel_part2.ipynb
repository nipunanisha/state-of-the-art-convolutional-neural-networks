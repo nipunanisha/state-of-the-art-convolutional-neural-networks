{
  "cells": [
    {
      "cell_type": "markdown",
      "metadata": {
        "id": "iOtt-HXGQSJY"
      },
      "source": [
        "Part 2"
      ]
    },
    {
      "cell_type": "markdown",
      "metadata": {
        "id": "kec8-riKQSJa"
      },
      "source": [
        "12. DenseNet121"
      ]
    },
    {
      "cell_type": "code",
      "execution_count": 1,
      "metadata": {
        "id": "VYjgErFcQSJb"
      },
      "outputs": [],
      "source": [
        "import numpy as np\n",
        "import tensorflow as tf\n",
        "from tensorflow import keras\n",
        "import cv2 as cv\n",
        "\n",
        "from tensorflow.keras import layers, models\n",
        "from tensorflow.keras.applications import DenseNet121\n",
        "import os"
      ]
    },
    {
      "cell_type": "markdown",
      "metadata": {
        "id": "p_wnoocFQSJc"
      },
      "source": [
        "Data preprocessing"
      ]
    },
    {
      "cell_type": "code",
      "execution_count": 4,
      "metadata": {
        "id": "HHI43eTwQSJd",
        "colab": {
          "base_uri": "https://localhost:8080/"
        },
        "outputId": "f2fc7c18-4264-42f3-e055-2e8b19537896"
      },
      "outputs": [
        {
          "output_type": "stream",
          "name": "stdout",
          "text": [
            "Mounted at /content/drive\n",
            "Found 6439 files belonging to 17 classes.\n",
            "Found 413 files belonging to 17 classes.\n",
            "Found 379 files belonging to 17 classes.\n"
          ]
        }
      ],
      "source": [
        "# Set the base directory for the Jute Pest Dataset and define image parameters\n",
        "# Mount Google Drive to access the dataset\n",
        "from google.colab import drive\n",
        "drive.mount('/content/drive')\n",
        "\n",
        "# Set the base directory for the Jute Pest Dataset\n",
        "# Update the path according to your dataset location in Google Drive\n",
        "base_dir = \"/content/drive/My Drive/Jute_Pest_Dataset\"\n",
        "batch_size = 32\n",
        "img_height = 224\n",
        "img_width = 224\n",
        "\n",
        "# Define directories for training, validation, and test datasets\n",
        "train_dir = f'{base_dir}/train'\n",
        "val_dir = f'{base_dir}/val'\n",
        "test_dir = f'{base_dir}/test'\n",
        "\n",
        "# Load and preprocess the training dataset with specified image size and batch size\n",
        "train_ds = tf.keras.preprocessing.image_dataset_from_directory(\n",
        "  train_dir,\n",
        "  seed=42,\n",
        "  image_size=(img_height, img_width),\n",
        "  batch_size=batch_size)\n",
        "\n",
        "# Save the class names from the training dataset for reference\n",
        "class_names = train_ds.class_names\n",
        "\n",
        "# Load and preprocess the validation dataset with the same parameters\n",
        "val_ds = tf.keras.preprocessing.image_dataset_from_directory(\n",
        "  val_dir,\n",
        "  seed=42,\n",
        "  image_size=(img_height, img_width),\n",
        "  batch_size=batch_size)\n",
        "\n",
        "# Load and preprocess the test dataset, using similar parameters\n",
        "test_ds = tf.keras.preprocessing.image_dataset_from_directory(\n",
        "  test_dir,\n",
        "  seed=42,\n",
        "  image_size=(img_height, img_width),\n",
        "  batch_size=batch_size)\n",
        "\n",
        "# Define data augmentation layer with random transformations to improve model generalization\n",
        "data_augmentation = keras.Sequential([\n",
        "    keras.layers.RandomFlip(\"horizontal_and_vertical\"),  # Randomly flip images horizontally and vertically\n",
        "    keras.layers.RandomRotation(0.2),                    # Apply random rotation to images\n",
        "    keras.layers.RandomZoom(0.2),                        # Zoom images randomly\n",
        "    keras.layers.RandomContrast(0.1)                     # Adjust image contrast randomly\n",
        "])\n",
        "\n",
        "# Apply data augmentation to the training dataset\n",
        "train_ds = train_ds.map(lambda x, y: (data_augmentation(x, training=True), y))"
      ]
    },
    {
      "cell_type": "markdown",
      "metadata": {
        "id": "30pZqpMRQSJd"
      },
      "source": [
        "13,14,15,16"
      ]
    },
    {
      "cell_type": "code",
      "execution_count": 5,
      "metadata": {
        "id": "5OtgKWJFQSJe",
        "colab": {
          "base_uri": "https://localhost:8080/"
        },
        "outputId": "4127e776-29ac-4288-8a99-790593d9cc61"
      },
      "outputs": [
        {
          "metadata": {
            "tags": null
          },
          "name": "stdout",
          "output_type": "stream",
          "text": [
            "Downloading data from https://storage.googleapis.com/tensorflow/keras-applications/densenet/densenet121_weights_tf_dim_ordering_tf_kernels_notop.h5\n",
            "\u001b[1m29084464/29084464\u001b[0m \u001b[32m━━━━━━━━━━━━━━━━━━━━\u001b[0m\u001b[37m\u001b[0m \u001b[1m0s\u001b[0m 0us/step\n",
            "No checkpoint found, starting from scratch.\n",
            "Training initial epochs 1 to 5...\n",
            "Epoch 1/5\n",
            "\u001b[1m202/202\u001b[0m \u001b[32m━━━━━━━━━━━━━━━━━━━━\u001b[0m\u001b[37m\u001b[0m \u001b[1m1433s\u001b[0m 7s/step - accuracy: 0.1060 - loss: 4.1250 - val_accuracy: 0.2446 - val_loss: 2.4836\n",
            "Epoch 2/5\n",
            "\u001b[1m202/202\u001b[0m \u001b[32m━━━━━━━━━━━━━━━━━━━━\u001b[0m\u001b[37m\u001b[0m \u001b[1m1432s\u001b[0m 7s/step - accuracy: 0.1913 - loss: 2.5669 - val_accuracy: 0.2857 - val_loss: 2.3079\n",
            "Epoch 3/5\n",
            "\u001b[1m202/202\u001b[0m \u001b[32m━━━━━━━━━━━━━━━━━━━━\u001b[0m\u001b[37m\u001b[0m \u001b[1m1385s\u001b[0m 7s/step - accuracy: 0.2391 - loss: 2.3861 - val_accuracy: 0.2809 - val_loss: 2.1801\n",
            "Epoch 4/5\n",
            "\u001b[1m202/202\u001b[0m \u001b[32m━━━━━━━━━━━━━━━━━━━━\u001b[0m\u001b[37m\u001b[0m \u001b[1m1401s\u001b[0m 7s/step - accuracy: 0.2570 - loss: 2.2732 - val_accuracy: 0.3705 - val_loss: 2.0830\n",
            "Epoch 5/5\n",
            "\u001b[1m202/202\u001b[0m \u001b[32m━━━━━━━━━━━━━━━━━━━━\u001b[0m\u001b[37m\u001b[0m \u001b[1m1421s\u001b[0m 7s/step - accuracy: 0.2903 - loss: 2.1571 - val_accuracy: 0.3850 - val_loss: 1.9807\n"
          ]
        },
        {
          "metadata": {
            "tags": null
          },
          "name": "stderr",
          "output_type": "stream",
          "text": [
            "WARNING:absl:You are saving your model as an HDF5 file via `model.save()` or `keras.saving.save_model(model)`. This file format is considered legacy. We recommend using instead the native Keras format, e.g. `model.save('my_model.keras')` or `keras.saving.save_model(model, 'my_model.keras')`. \n"
          ]
        },
        {
          "metadata": {
            "tags": null
          },
          "name": "stdout",
          "output_type": "stream",
          "text": [
            "Model saved to model_checkpoints/model_initial_epoch_5.h5\n",
            "Training initial epochs 6 to 10...\n",
            "Epoch 6/10\n",
            "\u001b[1m202/202\u001b[0m \u001b[32m━━━━━━━━━━━━━━━━━━━━\u001b[0m\u001b[37m\u001b[0m \u001b[1m1340s\u001b[0m 7s/step - accuracy: 0.3214 - loss: 2.0588 - val_accuracy: 0.4140 - val_loss: 1.9273\n",
            "Epoch 7/10\n",
            "\u001b[1m202/202\u001b[0m \u001b[32m━━━━━━━━━━━━━━━━━━━━\u001b[0m\u001b[37m\u001b[0m \u001b[1m1343s\u001b[0m 7s/step - accuracy: 0.3420 - loss: 2.0205 - val_accuracy: 0.3898 - val_loss: 1.9157\n",
            "Epoch 8/10\n",
            "\u001b[1m202/202\u001b[0m \u001b[32m━━━━━━━━━━━━━━━━━━━━\u001b[0m\u001b[37m\u001b[0m \u001b[1m1345s\u001b[0m 7s/step - accuracy: 0.3578 - loss: 1.9302 - val_accuracy: 0.4140 - val_loss: 1.9061\n",
            "Epoch 9/10\n",
            "\u001b[1m202/202\u001b[0m \u001b[32m━━━━━━━━━━━━━━━━━━━━\u001b[0m\u001b[37m\u001b[0m \u001b[1m1424s\u001b[0m 7s/step - accuracy: 0.3634 - loss: 1.8813 - val_accuracy: 0.4286 - val_loss: 1.8535\n",
            "Epoch 10/10\n",
            "\u001b[1m202/202\u001b[0m \u001b[32m━━━━━━━━━━━━━━━━━━━━\u001b[0m\u001b[37m\u001b[0m \u001b[1m1352s\u001b[0m 7s/step - accuracy: 0.3777 - loss: 1.8834 - val_accuracy: 0.4455 - val_loss: 1.8714\n"
          ]
        },
        {
          "metadata": {
            "tags": null
          },
          "name": "stderr",
          "output_type": "stream",
          "text": [
            "WARNING:absl:You are saving your model as an HDF5 file via `model.save()` or `keras.saving.save_model(model)`. This file format is considered legacy. We recommend using instead the native Keras format, e.g. `model.save('my_model.keras')` or `keras.saving.save_model(model, 'my_model.keras')`. \n"
          ]
        },
        {
          "metadata": {
            "tags": null
          },
          "name": "stdout",
          "output_type": "stream",
          "text": [
            "Model saved to model_checkpoints/model_initial_epoch_10.h5\n",
            "Fine-tuning epochs 11 to 15...\n",
            "Epoch 11/15\n",
            "\u001b[1m202/202\u001b[0m \u001b[32m━━━━━━━━━━━━━━━━━━━━\u001b[0m\u001b[37m\u001b[0m \u001b[1m1381s\u001b[0m 7s/step - accuracy: 0.1353 - loss: 3.4348 - val_accuracy: 0.2809 - val_loss: 2.3643\n",
            "Epoch 12/15\n",
            "\u001b[1m202/202\u001b[0m \u001b[32m━━━━━━━━━━━━━━━━━━━━\u001b[0m\u001b[37m\u001b[0m \u001b[1m1424s\u001b[0m 7s/step - accuracy: 0.1817 - loss: 2.8276 - val_accuracy: 0.3172 - val_loss: 2.2376\n",
            "Epoch 13/15\n",
            "\u001b[1m202/202\u001b[0m \u001b[32m━━━━━━━━━━━━━━━━━━━━\u001b[0m\u001b[37m\u001b[0m \u001b[1m1375s\u001b[0m 7s/step - accuracy: 0.2118 - loss: 2.5696 - val_accuracy: 0.3487 - val_loss: 2.1282\n",
            "Epoch 14/15\n",
            "\u001b[1m202/202\u001b[0m \u001b[32m━━━━━━━━━━━━━━━━━━━━\u001b[0m\u001b[37m\u001b[0m \u001b[1m1442s\u001b[0m 7s/step - accuracy: 0.2388 - loss: 2.4165 - val_accuracy: 0.3632 - val_loss: 2.0542\n",
            "Epoch 15/15\n",
            "\u001b[1m202/202\u001b[0m \u001b[32m━━━━━━━━━━━━━━━━━━━━\u001b[0m\u001b[37m\u001b[0m \u001b[1m1371s\u001b[0m 7s/step - accuracy: 0.2689 - loss: 2.2692 - val_accuracy: 0.3608 - val_loss: 2.0047\n"
          ]
        },
        {
          "metadata": {
            "tags": null
          },
          "name": "stderr",
          "output_type": "stream",
          "text": [
            "WARNING:absl:You are saving your model as an HDF5 file via `model.save()` or `keras.saving.save_model(model)`. This file format is considered legacy. We recommend using instead the native Keras format, e.g. `model.save('my_model.keras')` or `keras.saving.save_model(model, 'my_model.keras')`. \n"
          ]
        },
        {
          "output_type": "stream",
          "name": "stdout",
          "text": [
            "Model saved to model_checkpoints/model_finetune_epoch_15.h5\n",
            "Fine-tuning epochs 16 to 20...\n",
            "Epoch 16/20\n",
            "\u001b[1m202/202\u001b[0m \u001b[32m━━━━━━━━━━━━━━━━━━━━\u001b[0m\u001b[37m\u001b[0m \u001b[1m1359s\u001b[0m 7s/step - accuracy: 0.2983 - loss: 2.2003 - val_accuracy: 0.3753 - val_loss: 1.9708\n",
            "Epoch 17/20\n",
            "\u001b[1m202/202\u001b[0m \u001b[32m━━━━━━━━━━━━━━━━━━━━\u001b[0m\u001b[37m\u001b[0m \u001b[1m1412s\u001b[0m 7s/step - accuracy: 0.3014 - loss: 2.1251 - val_accuracy: 0.4068 - val_loss: 1.9477\n",
            "Epoch 18/20\n",
            "\u001b[1m202/202\u001b[0m \u001b[32m━━━━━━━━━━━━━━━━━━━━\u001b[0m\u001b[37m\u001b[0m \u001b[1m1361s\u001b[0m 7s/step - accuracy: 0.3083 - loss: 2.1119 - val_accuracy: 0.4310 - val_loss: 1.9305\n",
            "Epoch 19/20\n",
            "\u001b[1m202/202\u001b[0m \u001b[32m━━━━━━━━━━━━━━━━━━━━\u001b[0m\u001b[37m\u001b[0m \u001b[1m1368s\u001b[0m 7s/step - accuracy: 0.3297 - loss: 2.0544 - val_accuracy: 0.4383 - val_loss: 1.9150\n",
            "Epoch 20/20\n",
            "\u001b[1m202/202\u001b[0m \u001b[32m━━━━━━━━━━━━━━━━━━━━\u001b[0m\u001b[37m\u001b[0m \u001b[1m1365s\u001b[0m 7s/step - accuracy: 0.3402 - loss: 2.0331 - val_accuracy: 0.4383 - val_loss: 1.9035\n"
          ]
        },
        {
          "output_type": "stream",
          "name": "stderr",
          "text": [
            "WARNING:absl:You are saving your model as an HDF5 file via `model.save()` or `keras.saving.save_model(model)`. This file format is considered legacy. We recommend using instead the native Keras format, e.g. `model.save('my_model.keras')` or `keras.saving.save_model(model, 'my_model.keras')`. \n"
          ]
        },
        {
          "output_type": "stream",
          "name": "stdout",
          "text": [
            "Model saved to model_checkpoints/model_finetune_epoch_20.h5\n"
          ]
        }
      ],
      "source": [
        "# Set parameters\n",
        "img_height = 224\n",
        "img_width = 224\n",
        "num_classes = 17\n",
        "\n",
        "batch_epochs = 5  # Train 10 epochs at a time\n",
        "total_epochs = 10  # Initial training: 10 epochs\n",
        "fine_tune_total_epochs = 10  # Fine-tuning: 10 epochs\n",
        "\n",
        "# Load the pre-trained ResNet50 model\n",
        "base_model = DenseNet121(weights='imagenet', include_top=False, input_shape=(img_height, img_width, 3))\n",
        "base_model.trainable = False  # Freeze base model's layers\n",
        "\n",
        "# Build the model\n",
        "model = models.Sequential([\n",
        "    base_model,\n",
        "    layers.GlobalAveragePooling2D(),\n",
        "    layers.Dense(128, activation='relu'),\n",
        "    layers.Dropout(0.5),\n",
        "    layers.Dense(num_classes, activation='softmax')\n",
        "])\n",
        "\n",
        "# Compile the model\n",
        "model.compile(optimizer='adam', loss='sparse_categorical_crossentropy', metrics=['accuracy'])\n",
        "\n",
        "# Directory to save model checkpoints\n",
        "checkpoint_dir = \"model_checkpoints\"\n",
        "os.makedirs(checkpoint_dir, exist_ok=True)\n",
        "\n",
        "# Resume from the latest checkpoint if exists\n",
        "latest_checkpoint = tf.train.latest_checkpoint(checkpoint_dir)\n",
        "if latest_checkpoint:\n",
        "    print(f\"Resuming from checkpoint: {latest_checkpoint}\")\n",
        "    model = tf.keras.models.load_model(latest_checkpoint)\n",
        "    initial_epoch = int(latest_checkpoint.split('_')[-1].split('.')[0])  # Extract epoch number\n",
        "else:\n",
        "    print(\"No checkpoint found, starting from scratch.\")\n",
        "    initial_epoch = 0\n",
        "\n",
        "# Initial Training: Train in chunks of 10 epochs\n",
        "for start_epoch in range(initial_epoch, total_epochs, batch_epochs):\n",
        "    end_epoch = min(start_epoch + batch_epochs, total_epochs)\n",
        "    print(f\"Training initial epochs {start_epoch + 1} to {end_epoch}...\")\n",
        "\n",
        "    history = model.fit(\n",
        "        train_ds,\n",
        "        validation_data=val_ds,\n",
        "        initial_epoch=start_epoch,\n",
        "        epochs=end_epoch\n",
        "    )\n",
        "\n",
        "    checkpoint_path = os.path.join(checkpoint_dir, f\"model_initial_epoch_{end_epoch}.h5\")\n",
        "    model.save(checkpoint_path)\n",
        "    print(f\"Model saved to {checkpoint_path}\")\n",
        "\n",
        "# Fine-Tuning: Unfreeze some layers and re-train\n",
        "base_model.trainable = True\n",
        "for layer in base_model.layers[:-10]:  # Freeze all but the last 10 layers\n",
        "    layer.trainable = False\n",
        "\n",
        "model.compile(optimizer=tf.keras.optimizers.Adam(1e-5), loss='sparse_categorical_crossentropy', metrics=['accuracy'])\n",
        "\n",
        "# Fine-tuning: Train in chunks of 10 epochs\n",
        "for start_epoch in range(total_epochs, total_epochs + fine_tune_total_epochs, batch_epochs):\n",
        "    end_epoch = min(start_epoch + batch_epochs, total_epochs + fine_tune_total_epochs)\n",
        "    print(f\"Fine-tuning epochs {start_epoch + 1} to {end_epoch}...\")\n",
        "\n",
        "    history = model.fit(\n",
        "        train_ds,\n",
        "        validation_data=val_ds,\n",
        "        initial_epoch=start_epoch,\n",
        "        epochs=end_epoch\n",
        "    )\n",
        "\n",
        "    checkpoint_path = os.path.join(checkpoint_dir, f\"model_finetune_epoch_{end_epoch}.h5\")\n",
        "    model.save(checkpoint_path)\n",
        "    print(f\"Model saved to {checkpoint_path}\")\n"
      ]
    },
    {
      "cell_type": "code",
      "execution_count": 6,
      "metadata": {
        "id": "AD9UTlHMQSJe",
        "colab": {
          "base_uri": "https://localhost:8080/"
        },
        "outputId": "2011815a-8e17-4d56-ce42-1f68d42add98"
      },
      "outputs": [
        {
          "output_type": "stream",
          "name": "stderr",
          "text": [
            "WARNING:absl:You are saving your model as an HDF5 file via `model.save()` or `keras.saving.save_model(model)`. This file format is considered legacy. We recommend using instead the native Keras format, e.g. `model.save('my_model.keras')` or `keras.saving.save_model(model, 'my_model.keras')`. \n"
          ]
        },
        {
          "output_type": "stream",
          "name": "stdout",
          "text": [
            "Final model saved to /content/drive/My Drive/TrainedModel.h5\n"
          ]
        }
      ],
      "source": [
        "final_model_path = '/content/drive/My Drive/TrainedModel.h5'\n",
        "model.save(final_model_path)\n",
        "print(f\"Final model saved to {final_model_path}\")"
      ]
    },
    {
      "cell_type": "code",
      "execution_count": 7,
      "metadata": {
        "id": "TrfzY5-gQSJf",
        "colab": {
          "base_uri": "https://localhost:8080/",
          "height": 481
        },
        "outputId": "ac0bb17a-05f7-4550-f476-c8a94de65f1a"
      },
      "outputs": [
        {
          "output_type": "stream",
          "name": "stdout",
          "text": [
            "\u001b[1m12/12\u001b[0m \u001b[32m━━━━━━━━━━━━━━━━━━━━\u001b[0m\u001b[37m\u001b[0m \u001b[1m76s\u001b[0m 6s/step - accuracy: 0.4811 - loss: 1.7508\n",
            "Test Accuracy of fine-tuned ResNet-50: 0.46\n",
            "Test Loss of fine-tuned ResNet-50: 1.76\n"
          ]
        },
        {
          "output_type": "execute_result",
          "data": {
            "text/plain": [
              "[]"
            ]
          },
          "metadata": {},
          "execution_count": 7
        },
        {
          "output_type": "display_data",
          "data": {
            "text/plain": [
              "<Figure size 1200x400 with 2 Axes>"
            ],
            "image/png": "[encoded data removed]"
          },
          "metadata": {}
        }
      ],
      "source": [
        "import matplotlib.pyplot as plt\n",
        "\n",
        "# Evaluate on test set\n",
        "test_loss, test_accuracy = model.evaluate(test_ds)\n",
        "print(f\"Test Accuracy of fine-tuned ResNet-50: {test_accuracy:.2f}\")\n",
        "print(f\"Test Loss of fine-tuned ResNet-50: {test_loss:.2f}\")\n",
        "\n",
        "# Record losses and accuracy for plotting\n",
        "train_loss = history.history['loss']\n",
        "val_loss = history.history['val_loss']\n",
        "train_accuracy = history.history['accuracy']\n",
        "val_accuracy = history.history['val_accuracy']\n",
        "\n",
        "# Plot training and validation loss\n",
        "plt.figure(figsize=(12, 4))\n",
        "plt.subplot(1, 2, 1)\n",
        "plt.plot(train_loss, label='Training Loss')\n",
        "plt.plot(val_loss, label='Validation Loss')\n",
        "plt.xlabel('Epoch')\n",
        "plt.ylabel('Loss')\n",
        "plt.title('Training and Validation Loss')\n",
        "plt.legend()\n",
        "\n",
        "# Plot training and validation accuracy\n",
        "plt.subplot(1, 2, 2)\n",
        "plt.plot(train_accuracy, label='Training Accuracy')\n",
        "plt.plot(val_accuracy, label='Validation Accuracy')\n",
        "plt.xlabel('Epoch')\n",
        "plt.ylabel('Accuracy')\n",
        "plt.title('Training and Validation Accuracy')\n",
        "plt.legend()\n",
        "\n",
        "plt.plot()"
      ]
    }
  ],
  "metadata": {
    "kernelspec": {
      "display_name": "base",
      "language": "python",
      "name": "python3"
    },
    "language_info": {
      "codemirror_mode": {
        "name": "ipython",
        "version": 3
      },
      "file_extension": ".py",
      "mimetype": "text/x-python",
      "name": "python",
      "nbconvert_exporter": "python",
      "pygments_lexer": "ipython3",
      "version": "3.11.7"
    },
    "colab": {
      "provenance": []
    }
  },
  "nbformat": 4,
  "nbformat_minor": 0
}